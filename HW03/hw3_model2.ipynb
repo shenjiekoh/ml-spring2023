{
 "cells": [
  {
   "cell_type": "markdown",
   "id": "9d90fc5e",
   "metadata": {
    "papermill": {
     "duration": 0.006716,
     "end_time": "2023-03-25T15:41:38.714722",
     "exception": false,
     "start_time": "2023-03-25T15:41:38.708006",
     "status": "completed"
    },
    "tags": []
   },
   "source": [
    "## HW3 Image Classification\n",
    "#### Solve image classification with convolutional neural networks(CNN).\n",
    "#### If you have any questions, please contact the TAs via TA hours, NTU COOL, or email to mlta-2023-spring@googlegroups.com"
   ]
  },
  {
   "cell_type": "code",
   "execution_count": null,
   "id": "92509986",
   "metadata": {
    "execution": {
     "iopub.execute_input": "2023-03-25T15:41:38.728416Z",
     "iopub.status.busy": "2023-03-25T15:41:38.727456Z",
     "iopub.status.idle": "2023-03-25T15:41:39.856084Z",
     "shell.execute_reply": "2023-03-25T15:41:39.854942Z"
    },
    "papermill": {
     "duration": 1.13816,
     "end_time": "2023-03-25T15:41:39.858983",
     "exception": false,
     "start_time": "2023-03-25T15:41:38.720823",
     "status": "completed"
    },
    "tags": []
   },
   "outputs": [],
   "source": [
    "# check GPU type.\n",
    "!nvidia-smi"
   ]
  },
  {
   "cell_type": "markdown",
   "id": "c8ab5a9b",
   "metadata": {
    "papermill": {
     "duration": 0.005883,
     "end_time": "2023-03-25T15:41:39.870634",
     "exception": false,
     "start_time": "2023-03-25T15:41:39.864751",
     "status": "completed"
    },
    "tags": []
   },
   "source": [
    "### Import Packages"
   ]
  },
  {
   "cell_type": "code",
   "execution_count": null,
   "id": "6be972d1",
   "metadata": {
    "execution": {
     "iopub.execute_input": "2023-03-25T15:41:39.883881Z",
     "iopub.status.busy": "2023-03-25T15:41:39.883231Z",
     "iopub.status.idle": "2023-03-25T15:41:39.888792Z",
     "shell.execute_reply": "2023-03-25T15:41:39.887765Z"
    },
    "papermill": {
     "duration": 0.014606,
     "end_time": "2023-03-25T15:41:39.890881",
     "exception": false,
     "start_time": "2023-03-25T15:41:39.876275",
     "status": "completed"
    },
    "tags": []
   },
   "outputs": [],
   "source": [
    "_exp_name = \"resnet50\""
   ]
  },
  {
   "cell_type": "code",
   "execution_count": null,
   "id": "75b40617",
   "metadata": {
    "execution": {
     "iopub.execute_input": "2023-03-25T15:41:39.903350Z",
     "iopub.status.busy": "2023-03-25T15:41:39.903082Z",
     "iopub.status.idle": "2023-03-25T15:41:44.755701Z",
     "shell.execute_reply": "2023-03-25T15:41:44.754650Z"
    },
    "papermill": {
     "duration": 4.862473,
     "end_time": "2023-03-25T15:41:44.758790",
     "exception": false,
     "start_time": "2023-03-25T15:41:39.896317",
     "status": "completed"
    },
    "tags": []
   },
   "outputs": [],
   "source": [
    "# Import necessary packages.\n",
    "import numpy as np\n",
    "import pandas as pd\n",
    "import torch\n",
    "import os\n",
    "import torch.nn as nn\n",
    "import torchvision.transforms as transforms\n",
    "from PIL import Image\n",
    "# \"ConcatDataset\" and \"Subset\" are possibly useful when doing semi-supervised learning.\n",
    "from torch.utils.data import ConcatDataset, DataLoader, Subset, Dataset\n",
    "from torchvision.datasets import DatasetFolder, VisionDataset\n",
    "# This is for the progress bar.\n",
    "from tqdm.auto import tqdm\n",
    "import random"
   ]
  },
  {
   "cell_type": "code",
   "execution_count": null,
   "id": "5a6da827",
   "metadata": {
    "execution": {
     "iopub.execute_input": "2023-03-25T15:41:44.773965Z",
     "iopub.status.busy": "2023-03-25T15:41:44.773451Z",
     "iopub.status.idle": "2023-03-25T15:41:44.890663Z",
     "shell.execute_reply": "2023-03-25T15:41:44.889563Z"
    },
    "papermill": {
     "duration": 0.127077,
     "end_time": "2023-03-25T15:41:44.893480",
     "exception": false,
     "start_time": "2023-03-25T15:41:44.766403",
     "status": "completed"
    },
    "tags": []
   },
   "outputs": [],
   "source": [
    "myseed = 1234  # set a random seed for reproducibility\n",
    "torch.backends.cudnn.deterministic = True\n",
    "torch.backends.cudnn.benchmark = False\n",
    "np.random.seed(myseed)\n",
    "torch.manual_seed(myseed)\n",
    "if torch.cuda.is_available():\n",
    "    torch.cuda.manual_seed_all(myseed)"
   ]
  },
  {
   "cell_type": "markdown",
   "id": "5fb3ece4",
   "metadata": {
    "papermill": {
     "duration": 0.005446,
     "end_time": "2023-03-25T15:41:44.905189",
     "exception": false,
     "start_time": "2023-03-25T15:41:44.899743",
     "status": "completed"
    },
    "tags": []
   },
   "source": [
    "### Transforms"
   ]
  },
  {
   "cell_type": "code",
   "execution_count": null,
   "id": "36bc472a",
   "metadata": {
    "execution": {
     "iopub.execute_input": "2023-03-25T15:41:44.919346Z",
     "iopub.status.busy": "2023-03-25T15:41:44.918187Z",
     "iopub.status.idle": "2023-03-25T15:41:44.928332Z",
     "shell.execute_reply": "2023-03-25T15:41:44.927329Z"
    },
    "papermill": {
     "duration": 0.019323,
     "end_time": "2023-03-25T15:41:44.930772",
     "exception": false,
     "start_time": "2023-03-25T15:41:44.911449",
     "status": "completed"
    },
    "tags": []
   },
   "outputs": [],
   "source": [
    "# Normally, We don't need augmentations in testing and validation.\n",
    "# All we need here is to resize the PIL image and transform it into Tensor.\n",
    "test_tfm = transforms.Compose([\n",
    "    transforms.Resize((128, 128)),\n",
    "    transforms.RandomHorizontalFlip(p=0.5),\n",
    "    transforms.RandomRotation((-90,90),interpolation=transforms.InterpolationMode.BILINEAR),\n",
    "    transforms.ToTensor(),\n",
    "    transforms.Normalize((0.485, 0.456, 0.406), (0.229, 0.224, 0.225), inplace=False)\n",
    "])\n",
    "\n",
    "# However, it is also possible to use augmentation in the testing phase.\n",
    "# You may use train_tfm to produce a variety of images and then test using ensemble methods\n",
    "train_tfm = transforms.Compose([\n",
    "    # Resize the image into a fixed shape (height = width = 128)\n",
    "    transforms.Resize((128, 128)),\n",
    "    # You may add some transforms here.\n",
    "    transforms.RandomRotation((-90,90),interpolation=transforms.InterpolationMode.BILINEAR),\n",
    "    transforms.RandomHorizontalFlip(p=0.5),\n",
    "    transforms.RandomGrayscale(p=0.2),\n",
    "    transforms.RandomInvert(p=0.2),\n",
    "    transforms.RandomPosterize(bits=2, p=0.2),\n",
    "    transforms.RandomSolarize(threshold=200, p=0.2),\n",
    "    # ToTensor() should be the last one of the transforms.\n",
    "    transforms.ToTensor(),\n",
    "    transforms.RandomErasing(p=0.3, scale=(0.02, 0.33), ratio=(0.3, 3.3), value='random', inplace=False),\n",
    "    transforms.Normalize((0.485, 0.456, 0.406), (0.229, 0.224, 0.225), inplace=False)\n",
    "])"
   ]
  },
  {
   "cell_type": "markdown",
   "id": "dc8603db",
   "metadata": {
    "papermill": {
     "duration": 0.005581,
     "end_time": "2023-03-25T15:41:44.941904",
     "exception": false,
     "start_time": "2023-03-25T15:41:44.936323",
     "status": "completed"
    },
    "tags": []
   },
   "source": [
    "### Datasets"
   ]
  },
  {
   "cell_type": "code",
   "execution_count": null,
   "id": "7b05fc00",
   "metadata": {
    "execution": {
     "iopub.execute_input": "2023-03-25T15:41:44.955225Z",
     "iopub.status.busy": "2023-03-25T15:41:44.954411Z",
     "iopub.status.idle": "2023-03-25T15:41:44.962782Z",
     "shell.execute_reply": "2023-03-25T15:41:44.961758Z"
    },
    "papermill": {
     "duration": 0.017202,
     "end_time": "2023-03-25T15:41:44.964883",
     "exception": false,
     "start_time": "2023-03-25T15:41:44.947681",
     "status": "completed"
    },
    "tags": []
   },
   "outputs": [],
   "source": [
    "class FoodDataset(Dataset):\n",
    "\n",
    "    def __init__(self,path,tfm=test_tfm,files = None):\n",
    "        super(FoodDataset).__init__()\n",
    "        self.path = path\n",
    "        self.files = sorted([os.path.join(path,x) for x in os.listdir(path) if x.endswith(\".jpg\")])\n",
    "        if files != None:\n",
    "            self.files = files\n",
    "            \n",
    "        self.transform = tfm\n",
    "  \n",
    "    def __len__(self):\n",
    "        return len(self.files)\n",
    "  \n",
    "    def __getitem__(self,idx):\n",
    "        fname = self.files[idx]\n",
    "        im = Image.open(fname)\n",
    "        im = self.transform(im)\n",
    "        \n",
    "        try:\n",
    "            label = int(fname.split(\"/\")[-1].split(\"_\")[0])\n",
    "        except:\n",
    "            label = -1 # test has no label\n",
    "            \n",
    "        return im,label"
   ]
  },
  {
   "cell_type": "markdown",
   "id": "228087da",
   "metadata": {
    "papermill": {
     "duration": 0.005493,
     "end_time": "2023-03-25T15:41:44.976304",
     "exception": false,
     "start_time": "2023-03-25T15:41:44.970811",
     "status": "completed"
    },
    "tags": []
   },
   "source": [
    "### Model"
   ]
  },
  {
   "cell_type": "code",
   "execution_count": null,
   "id": "2faab79d",
   "metadata": {
    "execution": {
     "iopub.execute_input": "2023-03-25T15:41:44.989566Z",
     "iopub.status.busy": "2023-03-25T15:41:44.988834Z",
     "iopub.status.idle": "2023-03-25T15:41:44.999575Z",
     "shell.execute_reply": "2023-03-25T15:41:44.998544Z"
    },
    "papermill": {
     "duration": 0.019677,
     "end_time": "2023-03-25T15:41:45.001676",
     "exception": false,
     "start_time": "2023-03-25T15:41:44.981999",
     "status": "completed"
    },
    "tags": []
   },
   "outputs": [],
   "source": [
    "class Classifier(nn.Module):\n",
    "    def __init__(self):\n",
    "        super(Classifier, self).__init__()\n",
    "        # torch.nn.Conv2d(in_channels, out_channels, kernel_size, stride, padding)\n",
    "        # torch.nn.MaxPool2d(kernel_size, stride, padding)\n",
    "        # input 維度 [3, 128, 128]\n",
    "        self.cnn = nn.Sequential(\n",
    "            nn.Conv2d(3, 64, 3, 1, 1),  # [64, 128, 128]\n",
    "            nn.BatchNorm2d(64),\n",
    "            nn.ReLU(),\n",
    "            nn.MaxPool2d(2, 2, 0),      # [64, 64, 64]\n",
    "\n",
    "            nn.Conv2d(64, 128, 3, 1, 1), # [128, 64, 64]\n",
    "            nn.BatchNorm2d(128),\n",
    "            nn.ReLU(),\n",
    "            nn.MaxPool2d(2, 2, 0),      # [128, 32, 32]\n",
    "\n",
    "            nn.Conv2d(128, 256, 3, 1, 1), # [256, 32, 32]\n",
    "            nn.BatchNorm2d(256),\n",
    "            nn.ReLU(),\n",
    "            nn.MaxPool2d(2, 2, 0),      # [256, 16, 16]\n",
    "\n",
    "            nn.Conv2d(256, 512, 3, 1, 1), # [512, 16, 16]\n",
    "            nn.BatchNorm2d(512),\n",
    "            nn.ReLU(),\n",
    "            nn.MaxPool2d(2, 2, 0),       # [512, 8, 8]\n",
    "            \n",
    "            nn.Conv2d(512, 512, 3, 1, 1), # [512, 8, 8]\n",
    "            nn.BatchNorm2d(512),\n",
    "            nn.ReLU(),\n",
    "            nn.MaxPool2d(2, 2, 0),       # [512, 4, 4]\n",
    "        )\n",
    "        self.fc = nn.Sequential(\n",
    "            nn.Linear(512*4*4, 1024),\n",
    "            nn.ReLU(),\n",
    "            nn.Linear(1024, 512),\n",
    "            nn.ReLU(),\n",
    "            nn.Linear(512, 11)\n",
    "        )\n",
    "\n",
    "    def forward(self, x):\n",
    "        out = self.cnn(x)\n",
    "        out = out.view(out.size()[0], -1)\n",
    "        return self.fc(out)"
   ]
  },
  {
   "cell_type": "markdown",
   "id": "83ac9402",
   "metadata": {
    "papermill": {
     "duration": 0.005621,
     "end_time": "2023-03-25T15:41:45.013135",
     "exception": false,
     "start_time": "2023-03-25T15:41:45.007514",
     "status": "completed"
    },
    "tags": []
   },
   "source": [
    "### Configurations"
   ]
  },
  {
   "cell_type": "code",
   "execution_count": null,
   "id": "8e2cc47f",
   "metadata": {
    "execution": {
     "iopub.execute_input": "2023-03-25T15:41:45.026889Z",
     "iopub.status.busy": "2023-03-25T15:41:45.025786Z",
     "iopub.status.idle": "2023-03-25T15:41:49.750102Z",
     "shell.execute_reply": "2023-03-25T15:41:49.748850Z"
    },
    "papermill": {
     "duration": 4.734214,
     "end_time": "2023-03-25T15:41:49.753149",
     "exception": false,
     "start_time": "2023-03-25T15:41:45.018935",
     "status": "completed"
    },
    "tags": []
   },
   "outputs": [],
   "source": [
    "import torchvision.models as models\n",
    "# \"cuda\" only when GPUs are available.\n",
    "device = \"cuda\" if torch.cuda.is_available() else \"cpu\"\n",
    "\n",
    "# Initialize a model, and put it on the device specified.\n",
    "ResNet50 = models.resnet50(weights=False)\n",
    "ResNet50.fc = nn.Linear(ResNet50.fc.in_features, 11)\n",
    "model = ResNet50.to(device)\n",
    "\n",
    "# The number of batch size.\n",
    "batch_size = 64\n",
    "\n",
    "# The number of training epochs.\n",
    "n_epochs = 300\n",
    "\n",
    "# If no improvement in 'patience' epochs, early stop.\n",
    "patience = 80\n",
    "\n",
    "# For the classification task, we use cross-entropy as the measurement of performance.\n",
    "criterion = nn.CrossEntropyLoss()\n",
    "\n",
    "# Initialize optimizer, you may fine-tune some hyperparameters such as learning rate on your own.\n",
    "optimizer = torch.optim.Adam(model.parameters(), lr=0.0005, weight_decay=1e-5)\n",
    "scheduler = torch.optim.lr_scheduler.StepLR(optimizer, step_size=30, gamma=0.75)"
   ]
  },
  {
   "cell_type": "markdown",
   "id": "24739ac6",
   "metadata": {
    "papermill": {
     "duration": 0.007523,
     "end_time": "2023-03-25T15:41:49.767525",
     "exception": false,
     "start_time": "2023-03-25T15:41:49.760002",
     "status": "completed"
    },
    "tags": []
   },
   "source": [
    "### Dataloader"
   ]
  },
  {
   "cell_type": "code",
   "execution_count": null,
   "id": "0b5980ec",
   "metadata": {
    "execution": {
     "iopub.execute_input": "2023-03-25T15:41:49.784633Z",
     "iopub.status.busy": "2023-03-25T15:41:49.784245Z",
     "iopub.status.idle": "2023-03-25T15:41:50.152844Z",
     "shell.execute_reply": "2023-03-25T15:41:50.151722Z"
    },
    "papermill": {
     "duration": 0.379473,
     "end_time": "2023-03-25T15:41:50.155692",
     "exception": false,
     "start_time": "2023-03-25T15:41:49.776219",
     "status": "completed"
    },
    "tags": []
   },
   "outputs": [],
   "source": [
    "# Construct train and valid datasets.\n",
    "# The argument \"loader\" tells how torchvision reads the data.\n",
    "train_set = FoodDataset(\"./train\", tfm=train_tfm)\n",
    "train_loader = DataLoader(train_set, batch_size=batch_size, shuffle=True, num_workers=0, pin_memory=True)\n",
    "valid_set = FoodDataset(\"./valid\", tfm=test_tfm)\n",
    "valid_loader = DataLoader(valid_set, batch_size=batch_size, shuffle=True, num_workers=0, pin_memory=True)"
   ]
  },
  {
   "cell_type": "markdown",
   "id": "54a2d4a9",
   "metadata": {
    "papermill": {
     "duration": 0.006081,
     "end_time": "2023-03-25T15:41:50.168129",
     "exception": false,
     "start_time": "2023-03-25T15:41:50.162048",
     "status": "completed"
    },
    "tags": []
   },
   "source": [
    "### Start Training"
   ]
  },
  {
   "cell_type": "code",
   "execution_count": null,
   "id": "66413888",
   "metadata": {
    "execution": {
     "iopub.execute_input": "2023-03-25T15:41:50.181997Z",
     "iopub.status.busy": "2023-03-25T15:41:50.181266Z"
    },
    "papermill": {
     "duration": null,
     "end_time": null,
     "exception": false,
     "start_time": "2023-03-25T15:41:50.174109",
     "status": "running"
    },
    "tags": []
   },
   "outputs": [],
   "source": [
    "# Initialize trackers, these are not parameters and should not be changed\n",
    "stale = 0\n",
    "best_acc = 0\n",
    "\n",
    "for epoch in range(n_epochs):\n",
    "\n",
    "    # ---------- Training ----------\n",
    "    # Make sure the model is in train mode before training.\n",
    "    model.train()\n",
    "\n",
    "    # These are used to record information in training.\n",
    "    train_loss = []\n",
    "    train_accs = []\n",
    "\n",
    "    for batch in tqdm(train_loader):\n",
    "\n",
    "        # A batch consists of image data and corresponding labels.\n",
    "        imgs, labels = batch\n",
    "        #imgs = imgs.half()\n",
    "        #print(imgs.shape,labels.shape)\n",
    "\n",
    "        # Forward the data. (Make sure data and model are on the same device.)\n",
    "        logits = model(imgs.to(device))\n",
    "\n",
    "        # Calculate the cross-entropy loss.\n",
    "        # We don't need to apply softmax before computing cross-entropy as it is done automatically.\n",
    "        loss = criterion(logits, labels.to(device))\n",
    "\n",
    "        # Gradients stored in the parameters in the previous step should be cleared out first.\n",
    "        optimizer.zero_grad()\n",
    "\n",
    "        # Compute the gradients for parameters.\n",
    "        loss.backward()\n",
    "\n",
    "        # Clip the gradient norms for stable training.\n",
    "        grad_norm = nn.utils.clip_grad_norm_(model.parameters(), max_norm=10)\n",
    "\n",
    "        # Update the parameters with computed gradients.\n",
    "        optimizer.step()\n",
    "\n",
    "        # Compute the accuracy for current batch.\n",
    "        acc = (logits.argmax(dim=-1) == labels.to(device)).float().mean()\n",
    "\n",
    "        # Record the loss and accuracy.\n",
    "        train_loss.append(loss.item())\n",
    "        train_accs.append(acc)\n",
    "        \n",
    "    train_loss = sum(train_loss) / len(train_loss)\n",
    "    train_acc = sum(train_accs) / len(train_accs)\n",
    "\n",
    "    # Print the information.\n",
    "    print(f\"[ Train | {epoch + 1:03d}/{n_epochs:03d} ] loss = {train_loss:.5f}, acc = {train_acc:.5f}\")\n",
    "\n",
    "    # ---------- Validation ----------\n",
    "    # Make sure the model is in eval mode so that some modules like dropout are disabled and work normally.\n",
    "    model.eval()\n",
    "\n",
    "    # These are used to record information in validation.\n",
    "    valid_loss = []\n",
    "    valid_accs = []\n",
    "\n",
    "    # Iterate the validation set by batches.\n",
    "    for batch in tqdm(valid_loader):\n",
    "\n",
    "        # A batch consists of image data and corresponding labels.\n",
    "        imgs, labels = batch\n",
    "        #imgs = imgs.half()\n",
    "\n",
    "        # We don't need gradient in validation.\n",
    "        # Using torch.no_grad() accelerates the forward process.\n",
    "        with torch.no_grad():\n",
    "            logits = model(imgs.to(device))\n",
    "\n",
    "        # We can still compute the loss (but not the gradient).\n",
    "        loss = criterion(logits, labels.to(device))\n",
    "\n",
    "        # Compute the accuracy for current batch.\n",
    "        acc = (logits.argmax(dim=-1) == labels.to(device)).float().mean()\n",
    "\n",
    "        # Record the loss and accuracy.\n",
    "        valid_loss.append(loss.item())\n",
    "        valid_accs.append(acc)\n",
    "        #break\n",
    "\n",
    "    # The average loss and accuracy for entire validation set is the average of the recorded values.\n",
    "    valid_loss = sum(valid_loss) / len(valid_loss)\n",
    "    valid_acc = sum(valid_accs) / len(valid_accs)\n",
    "\n",
    "    # Print the information.\n",
    "    print(f\"[ Valid | {epoch + 1:03d}/{n_epochs:03d} ] loss = {valid_loss:.5f}, acc = {valid_acc:.5f}\")\n",
    "\n",
    "\n",
    "    # update logs\n",
    "    if valid_acc > best_acc:\n",
    "        with open(f\"./{_exp_name}_log.txt\",\"a\"):\n",
    "            print(f\"[ Valid | {epoch + 1:03d}/{n_epochs:03d} ] loss = {valid_loss:.5f}, acc = {valid_acc:.5f} -> best\")\n",
    "    else:\n",
    "        with open(f\"./{_exp_name}_log.txt\",\"a\"):\n",
    "            print(f\"[ Valid | {epoch + 1:03d}/{n_epochs:03d} ] loss = {valid_loss:.5f}, acc = {valid_acc:.5f}\")\n",
    "\n",
    "\n",
    "    # save models\n",
    "    if valid_acc > best_acc:\n",
    "        print(f\"Best model found at epoch {epoch}, saving model\")\n",
    "        torch.save(model.state_dict(), f\"{_exp_name}_best.ckpt\") # only save best to prevent output memory exceed error\n",
    "        best_acc = valid_acc\n",
    "        stale = 0\n",
    "    else:\n",
    "        stale += 1\n",
    "        if stale > patience:\n",
    "            print(f\"No improvment {patience} consecutive epochs, early stopping\")\n",
    "            break\n",
    "    \n",
    "    scheduler.step()"
   ]
  },
  {
   "cell_type": "markdown",
   "id": "30b6bbbf",
   "metadata": {
    "papermill": {
     "duration": null,
     "end_time": null,
     "exception": null,
     "start_time": null,
     "status": "pending"
    },
    "tags": []
   },
   "source": [
    "### Dataloader for test"
   ]
  },
  {
   "cell_type": "code",
   "execution_count": null,
   "id": "24b0f28b",
   "metadata": {
    "execution": {
     "iopub.execute_input": "2023-03-20T14:37:37.535629Z",
     "iopub.status.busy": "2023-03-20T14:37:37.534959Z",
     "iopub.status.idle": "2023-03-20T14:37:37.779913Z",
     "shell.execute_reply": "2023-03-20T14:37:37.778871Z",
     "shell.execute_reply.started": "2023-03-20T14:37:37.535570Z"
    },
    "papermill": {
     "duration": null,
     "end_time": null,
     "exception": null,
     "start_time": null,
     "status": "pending"
    },
    "tags": []
   },
   "outputs": [],
   "source": [
    "# Construct test datasets.\n",
    "# The argument \"loader\" tells how torchvision reads the data.\n",
    "test_set = FoodDataset(\"./test\", tfm=test_tfm)\n",
    "test_loader = DataLoader(test_set, batch_size=batch_size, shuffle=False, num_workers=0, pin_memory=True)\n",
    "test_set_transformed = FoodDataset(\"./test\", tfm=train_tfm)\n",
    "test_loader_transformed = DataLoader(test_set_transformed, batch_size=batch_size, shuffle=False, num_workers=0, pin_memory=True)"
   ]
  },
  {
   "cell_type": "markdown",
   "id": "3fa46116",
   "metadata": {
    "papermill": {
     "duration": null,
     "end_time": null,
     "exception": null,
     "start_time": null,
     "status": "pending"
    },
    "tags": []
   },
   "source": [
    "### Testing and generate prediction CSV"
   ]
  },
  {
   "cell_type": "code",
   "execution_count": null,
   "id": "b076600c",
   "metadata": {
    "_kg_hide-input": true,
    "execution": {
     "iopub.execute_input": "2023-03-20T14:37:37.782078Z",
     "iopub.status.busy": "2023-03-20T14:37:37.781397Z",
     "iopub.status.idle": "2023-03-20T14:38:04.193610Z",
     "shell.execute_reply": "2023-03-20T14:38:04.192049Z",
     "shell.execute_reply.started": "2023-03-20T14:37:37.782038Z"
    },
    "papermill": {
     "duration": null,
     "end_time": null,
     "exception": null,
     "start_time": null,
     "status": "pending"
    },
    "tags": []
   },
   "outputs": [],
   "source": [
    "model_best = ResNet50.to(device)\n",
    "model_best.load_state_dict(torch.load(f\"{_exp_name}_best.ckpt\"))\n",
    "model_best.eval()\n",
    "prediction = []\n",
    "prediction_transformed = []\n",
    "with torch.no_grad():\n",
    "    for data,_ in tqdm(test_loader):\n",
    "        test_pred = model_best(data.to(device))\n",
    "        prediction += test_pred.squeeze().tolist()\n",
    "\n",
    "    for data,_ in tqdm(test_loader_transformed):\n",
    "        test_transformed_pred = model_best(data.to(device))\n",
    "        prediction_transformed += test_transformed_pred.squeeze().tolist()"
   ]
  },
  {
   "cell_type": "code",
   "execution_count": null,
   "id": "08527855",
   "metadata": {
    "execution": {
     "iopub.status.busy": "2023-03-20T14:38:04.194738Z",
     "iopub.status.idle": "2023-03-20T14:38:04.196006Z",
     "shell.execute_reply": "2023-03-20T14:38:04.195730Z",
     "shell.execute_reply.started": "2023-03-20T14:38:04.195701Z"
    },
    "papermill": {
     "duration": null,
     "end_time": null,
     "exception": null,
     "start_time": null,
     "status": "pending"
    },
    "tags": []
   },
   "outputs": [],
   "source": [
    "prediction_ensemble = []\n",
    "prediction = np.array(prediction)\n",
    "prediction_transformed = np.array(prediction_transformed)\n",
    "for i in range(len(prediction)):\n",
    "        w = 0.9\n",
    "        test_ensemble_pred = w * prediction[i,:] + (1-w) * prediction_transformed[i,:]\n",
    "        test_ensemble_label = np.argmax(test_ensemble_pred, axis=0)\n",
    "        prediction_ensemble.append(test_ensemble_label)"
   ]
  },
  {
   "cell_type": "code",
   "execution_count": null,
   "id": "45217230",
   "metadata": {
    "execution": {
     "iopub.status.busy": "2023-03-20T14:38:04.197569Z",
     "iopub.status.idle": "2023-03-20T14:38:04.198455Z",
     "shell.execute_reply": "2023-03-20T14:38:04.198222Z",
     "shell.execute_reply.started": "2023-03-20T14:38:04.198184Z"
    },
    "papermill": {
     "duration": null,
     "end_time": null,
     "exception": null,
     "start_time": null,
     "status": "pending"
    },
    "tags": []
   },
   "outputs": [],
   "source": [
    "# create test csv\n",
    "def pad4(i):\n",
    "    return \"0\"*(4-len(str(i)))+str(i)\n",
    "df = pd.DataFrame()\n",
    "df[\"Id\"] = [pad4(i) for i in range(len(test_set))]\n",
    "df[\"Category\"] = prediction_ensemble\n",
    "df.to_csv(\"submission.csv\",index = False)"
   ]
  },
  {
   "cell_type": "markdown",
   "id": "5a883712",
   "metadata": {
    "papermill": {
     "duration": null,
     "end_time": null,
     "exception": null,
     "start_time": null,
     "status": "pending"
    },
    "tags": []
   },
   "source": [
    "## Q1. Augmentation Implementation\n",
    "### Implement augmentation by finishing train_tfm in the code with image size of your choice. \n",
    "### Directly copy the following block and paste it on GradeScope after you finish the code\n",
    "#### Your train_tfm must be capable of producing 5+ different results when given an identical image multiple times.\n",
    "#### Your  train_tfm in the report can be different from train_tfm in your training code."
   ]
  },
  {
   "cell_type": "code",
   "execution_count": null,
   "id": "b1731a85",
   "metadata": {
    "execution": {
     "iopub.status.busy": "2023-03-20T14:38:04.200025Z",
     "iopub.status.idle": "2023-03-20T14:38:04.200900Z",
     "shell.execute_reply": "2023-03-20T14:38:04.200648Z",
     "shell.execute_reply.started": "2023-03-20T14:38:04.200620Z"
    },
    "papermill": {
     "duration": null,
     "end_time": null,
     "exception": null,
     "start_time": null,
     "status": "pending"
    },
    "tags": []
   },
   "outputs": [],
   "source": [
    "train_tfm = transforms.Compose([\n",
    "    # Resize the image into a fixed shape (height = width = 128)\n",
    "    transforms.Resize((128, 128)),\n",
    "    # You can add some transforms here.\n",
    "    transforms.ToTensor(),\n",
    "])"
   ]
  },
  {
   "cell_type": "markdown",
   "id": "ecb24642",
   "metadata": {
    "papermill": {
     "duration": null,
     "end_time": null,
     "exception": null,
     "start_time": null,
     "status": "pending"
    },
    "tags": []
   },
   "source": [
    "## Q2. Visual Representations Implementation\n",
    "### Visualize the learned visual representations of the CNN model on the validation set by implementing t-SNE (t-distributed Stochastic Neighbor Embedding) on the output of both top & mid layers (You need to submit 2 images). \n",
    "### ChatGPT has generated the following code, which requires a minor modification to produce the expected results."
   ]
  },
  {
   "cell_type": "code",
   "execution_count": null,
   "id": "f2565e06",
   "metadata": {
    "execution": {
     "iopub.status.busy": "2023-03-20T14:38:04.202392Z",
     "iopub.status.idle": "2023-03-20T14:38:04.203220Z",
     "shell.execute_reply": "2023-03-20T14:38:04.202975Z",
     "shell.execute_reply.started": "2023-03-20T14:38:04.202947Z"
    },
    "papermill": {
     "duration": null,
     "end_time": null,
     "exception": null,
     "start_time": null,
     "status": "pending"
    },
    "tags": []
   },
   "outputs": [],
   "source": [
    "# import torch\n",
    "# import numpy as np\n",
    "# from sklearn.manifold import TSNE\n",
    "# import matplotlib.pyplot as plt\n",
    "# from tqdm import tqdm\n",
    "# import matplotlib.cm as cm\n",
    "# import torch.nn as nn\n",
    "\n",
    "# device = 'cuda' if torch.cuda.is_available() else 'cpu'\n",
    "\n",
    "# # Load the trained model\n",
    "# model = ResNet50.to(device)\n",
    "# state_dict = torch.load(f\"{_exp_name}_best.ckpt\")\n",
    "# model.load_state_dict(state_dict)\n",
    "# model.eval()\n",
    "\n",
    "# print(model)"
   ]
  },
  {
   "cell_type": "code",
   "execution_count": null,
   "id": "c68d9d31",
   "metadata": {
    "execution": {
     "iopub.status.busy": "2023-03-20T14:38:04.204701Z",
     "iopub.status.idle": "2023-03-20T14:38:04.205504Z",
     "shell.execute_reply": "2023-03-20T14:38:04.205268Z",
     "shell.execute_reply.started": "2023-03-20T14:38:04.205243Z"
    },
    "papermill": {
     "duration": null,
     "end_time": null,
     "exception": null,
     "start_time": null,
     "status": "pending"
    },
    "tags": []
   },
   "outputs": [],
   "source": [
    "# # Load the vaildation set defined by TA\n",
    "# valid_set = FoodDataset(\"/kaggle/input/ml2023spring-hw3/valid\", tfm=test_tfm)\n",
    "# valid_loader = DataLoader(valid_set, batch_size=64, shuffle=False, num_workers=0, pin_memory=True)\n",
    "\n",
    "# # Extract the representations for the specific layer of model\n",
    "# index = 11 # You should find out the index of layer which is defined as \"top\" or 'mid' layer of your model.\n",
    "# features = []\n",
    "# labels = []\n",
    "# for batch in tqdm(valid_loader):\n",
    "#     imgs, lbls = batch\n",
    "#     with torch.no_grad():\n",
    "#         logits = model.cnn[:index](imgs.to(device))\n",
    "#         logits = logits.view(logits.size()[0], -1)\n",
    "#     labels.extend(lbls.cpu().numpy())\n",
    "#     logits = np.squeeze(logits.cpu().numpy())\n",
    "#     features.extend(logits)\n",
    "    \n",
    "# features = np.array(features)\n",
    "# colors_per_class = cm.rainbow(np.linspace(0, 1, 11))\n",
    "\n",
    "# # Apply t-SNE to the features\n",
    "# features_tsne = TSNE(n_components=2, init='pca', random_state=42).fit_transform(features)\n",
    "\n",
    "# # Plot the t-SNE visualization\n",
    "# plt.figure(figsize=(10, 8))\n",
    "# for label in np.unique(labels):\n",
    "#     plt.scatter(features_tsne[labels == label, 0], features_tsne[labels == label, 1], label=label, s=5)\n",
    "# plt.legend()\n",
    "# plt.show()"
   ]
  },
  {
   "attachments": {},
   "cell_type": "markdown",
   "id": "ad63e172",
   "metadata": {},
   "source": [
    "Kaggle public score 0.80933"
   ]
  }
 ],
 "metadata": {
  "kernelspec": {
   "display_name": "Python 3",
   "language": "python",
   "name": "python3"
  },
  "language_info": {
   "codemirror_mode": {
    "name": "ipython",
    "version": 3
   },
   "file_extension": ".py",
   "mimetype": "text/x-python",
   "name": "python",
   "nbconvert_exporter": "python",
   "pygments_lexer": "ipython3",
   "version": "3.10.10"
  },
  "papermill": {
   "default_parameters": {},
   "duration": null,
   "end_time": null,
   "environment_variables": {},
   "exception": null,
   "input_path": "__notebook__.ipynb",
   "output_path": "__notebook__.ipynb",
   "parameters": {},
   "start_time": "2023-03-25T15:41:25.937523",
   "version": "2.4.0"
  }
 },
 "nbformat": 4,
 "nbformat_minor": 5
}
