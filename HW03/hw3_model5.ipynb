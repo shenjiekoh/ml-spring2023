{
  "cells": [
    {
      "cell_type": "markdown",
      "metadata": {
        "id": "jRDuJsGCgxCO"
      },
      "source": [
        "# HW3 Image Classification\n",
        "## We strongly recommend that you run with [Kaggle](https://www.kaggle.com/t/86ca241732c04da99aca6490080bae73) for this homework\n",
        "\n",
        "If you have any questions, please contact the TAs via TA hours, NTU COOL, or email to mlta-2023-spring@googlegroups.com"
      ]
    },
    {
      "cell_type": "markdown",
      "metadata": {
        "id": "K9Vxu1iQwdIE"
      },
      "source": [
        "# Check GPU Type"
      ]
    },
    {
      "cell_type": "code",
      "execution_count": 53,
      "metadata": {
        "colab": {
          "base_uri": "https://localhost:8080/"
        },
        "id": "KKjf6sZcwb_A",
        "outputId": "605652be-d5bf-48a2-8218-57b33b6f7790"
      },
      "outputs": [
        {
          "name": "stdout",
          "output_type": "stream",
          "text": [
            "Thu Mar 30 22:44:04 2023       \n",
            "+---------------------------------------------------------------------------------------+\n",
            "| NVIDIA-SMI 531.14                 Driver Version: 531.14       CUDA Version: 12.1     |\n",
            "|-----------------------------------------+----------------------+----------------------+\n",
            "| GPU  Name                      TCC/WDDM | Bus-Id        Disp.A | Volatile Uncorr. ECC |\n",
            "| Fan  Temp  Perf            Pwr:Usage/Cap|         Memory-Usage | GPU-Util  Compute M. |\n",
            "|                                         |                      |               MIG M. |\n",
            "|=========================================+======================+======================|\n",
            "|   0  NVIDIA GeForce RTX 3050 T...  WDDM | 00000000:01:00.0  On |                  N/A |\n",
            "| N/A   53C    P8                5W /  N/A|   3924MiB /  4096MiB |      3%      Default |\n",
            "|                                         |                      |                  N/A |\n",
            "+-----------------------------------------+----------------------+----------------------+\n",
            "                                                                                         \n",
            "+---------------------------------------------------------------------------------------+\n",
            "| Processes:                                                                            |\n",
            "|  GPU   GI   CI        PID   Type   Process name                            GPU Memory |\n",
            "|        ID   ID                                                             Usage      |\n",
            "|=======================================================================================|\n",
            "|    0   N/A  N/A      1008      C   ...s\\user\\anaconda3\\envs\\ML\\python.exe    N/A      |\n",
            "|    0   N/A  N/A     18848      C   ...s\\user\\anaconda3\\envs\\ML\\python.exe    N/A      |\n",
            "|    0   N/A  N/A     21396      C   ...s\\user\\anaconda3\\envs\\ML\\python.exe    N/A      |\n",
            "+---------------------------------------------------------------------------------------+\n"
          ]
        }
      ],
      "source": [
        "!nvidia-smi"
      ]
    },
    {
      "cell_type": "markdown",
      "metadata": {
        "id": "EVgrPb3HhJUT"
      },
      "source": [
        "# Get Data\n",
        "Notes: if the links are dead, you can download the data directly from Kaggle and upload it to the workspace, or you can use the Kaggle API to directly download the data into colab.\n"
      ]
    },
    {
      "cell_type": "code",
      "execution_count": 54,
      "metadata": {
        "colab": {
          "base_uri": "https://localhost:8080/"
        },
        "id": "EAO6dg9eVaU_",
        "outputId": "5a20fe0a-ab0f-40e8-82d7-5cb1dea91d92"
      },
      "outputs": [],
      "source": [
        "# Download Link\n",
        "# Link 1 (Dropbox): https://www.dropbox.com/s/up5q1gthsz3v0dq/food-11.zip?dl=0\n",
        "# Link 2 (Google Drive): https://drive.google.com/file/d/1tbGNwk1yGoCBdu4Gi_Cia7EJ9OhubYD9/view?usp=share_link\n",
        "# Link 3: Kaggle Competition.\n",
        "\n",
        "# (1) dropbox link\n",
        "# !wget -O food11.zip https://www.dropbox.com/s/up5q1gthsz3v0dq/food-11.zip?dl=0\n",
        "\n",
        "# (2) google drive link\n",
        "# !pip install gdown --upgrade\n",
        "# !gdown --id '1tbGNwk1yGoCBdu4Gi_Cia7EJ9OhubYD9' --output food11.zip"
      ]
    },
    {
      "cell_type": "code",
      "execution_count": 55,
      "metadata": {
        "colab": {
          "background_save": true,
          "base_uri": "https://localhost:8080/"
        },
        "id": "HEsBm1lkhGmk",
        "outputId": "cf34336a-53b8-4ff6-ec07-7938c0703247"
      },
      "outputs": [],
      "source": [
        "# ! unzip food11.zip"
      ]
    },
    {
      "cell_type": "markdown",
      "metadata": {
        "id": "n5ceUnRihL-f"
      },
      "source": [
        "# Import Packages"
      ]
    },
    {
      "cell_type": "code",
      "execution_count": 56,
      "metadata": {
        "colab": {
          "background_save": true
        },
        "id": "ay3WkYnHVaVE"
      },
      "outputs": [],
      "source": [
        "_exp_name = \"efficientnet\""
      ]
    },
    {
      "cell_type": "code",
      "execution_count": 57,
      "metadata": {
        "colab": {
          "background_save": true
        },
        "id": "CwOGtRWHVaVF"
      },
      "outputs": [],
      "source": [
        "# Import necessary packages.\n",
        "import numpy as np\n",
        "import pandas as pd\n",
        "import torch\n",
        "import os\n",
        "import torch.nn as nn\n",
        "import torchvision.transforms as transforms\n",
        "from PIL import Image\n",
        "# \"ConcatDataset\" and \"Subset\" are possibly useful when doing semi-supervised learning.\n",
        "from torch.utils.data import ConcatDataset, DataLoader, Subset, Dataset\n",
        "from torchvision.datasets import DatasetFolder, VisionDataset\n",
        "# This is for the progress bar.\n",
        "from tqdm.auto import tqdm\n",
        "import random"
      ]
    },
    {
      "cell_type": "code",
      "execution_count": 58,
      "metadata": {
        "colab": {
          "background_save": true
        },
        "id": "8kJm9GekVaVH"
      },
      "outputs": [],
      "source": [
        "myseed = 9453  # set a random seed for reproducibility\n",
        "torch.backends.cudnn.deterministic = True\n",
        "torch.backends.cudnn.benchmark = False\n",
        "np.random.seed(myseed)\n",
        "torch.manual_seed(myseed)\n",
        "if torch.cuda.is_available():\n",
        "    torch.cuda.manual_seed_all(myseed)"
      ]
    },
    {
      "cell_type": "markdown",
      "metadata": {
        "id": "d9MVtgbSVaVH"
      },
      "source": [
        "# Transforms\n",
        "Torchvision provides lots of useful utilities for image preprocessing, data *wrapping* as well as data augmentation.\n",
        "\n",
        "Please refer to PyTorch official website for details about different transforms."
      ]
    },
    {
      "cell_type": "code",
      "execution_count": 59,
      "metadata": {
        "colab": {
          "background_save": true
        },
        "id": "jvI3Xmq4VaVJ"
      },
      "outputs": [],
      "source": [
        "# Normally, We don't need augmentations in testing and validation.\n",
        "# All we need here is to resize the PIL image and transform it into Tensor.\n",
        "test_tfm = transforms.Compose([\n",
        "    transforms.Resize((256, 256)),\n",
        "    transforms.RandomHorizontalFlip(p=0.5),\n",
        "    # transforms.RandomRotation((-90,90),interpolation=transforms.InterpolationMode.BILINEAR),\n",
        "    transforms.ToTensor(),\n",
        "    # transforms.Normalize((0.485, 0.456, 0.406), (0.229, 0.224, 0.225), inplace=False)\n",
        "])\n",
        "\n",
        "# However, it is also possible to use augmentation in the testing phase.\n",
        "# You may use train_tfm to produce a variety of images and then test using ensemble methods\n",
        "train_tfm = transforms.Compose([\n",
        "    # Resize the image into a fixed shape (height = width = 128)\n",
        "    transforms.Resize((256, 256)),\n",
        "    # You may add some transforms here.\n",
        "    transforms.RandomRotation((-90,90),interpolation=transforms.InterpolationMode.BILINEAR),\n",
        "    transforms.RandomHorizontalFlip(p=0.5),\n",
        "    transforms.RandomGrayscale(p=0.2),\n",
        "    transforms.RandomInvert(p=0.2),\n",
        "    transforms.RandomPosterize(bits=2, p=0.2),\n",
        "    transforms.RandomSolarize(threshold=200, p=0.2),\n",
        "    transforms.ColorJitter(brightness=0.1, contrast=0.1, saturation=0.1, hue=0.1),\n",
        "    # ToTensor() should be the last one of the transforms.\n",
        "    transforms.ToTensor(),\n",
        "    transforms.RandomErasing(p=0.3, scale=(0.02, 0.33), ratio=(0.3, 3.3), value='random', inplace=False),\n",
        "    # transforms.Normalize((0.485, 0.456, 0.406), (0.229, 0.224, 0.225), inplace=False)\n",
        "])\n"
      ]
    },
    {
      "cell_type": "markdown",
      "metadata": {
        "id": "D0ivMf-jVaVK"
      },
      "source": [
        "# Datasets\n",
        "The data is labelled by the name, so we load images and label while calling '__getitem__'"
      ]
    },
    {
      "cell_type": "code",
      "execution_count": 60,
      "metadata": {
        "colab": {
          "background_save": true
        },
        "id": "xBdtPhKwVaVL"
      },
      "outputs": [],
      "source": [
        "class FoodDataset(Dataset):\n",
        "\n",
        "    def __init__(self,path,tfm=test_tfm,files = None):\n",
        "        super(FoodDataset).__init__()\n",
        "        self.path = path\n",
        "        self.files = sorted([path+\"/\"+x for x in os.listdir(path) if x.endswith(\".jpg\")])\n",
        "        if files != None:\n",
        "            self.files = files\n",
        "            \n",
        "        self.transform = tfm\n",
        "  \n",
        "    def __len__(self):\n",
        "        return len(self.files)\n",
        "  \n",
        "    def __getitem__(self,idx):\n",
        "        fname = self.files[idx]\n",
        "        im = Image.open(fname)\n",
        "        im = self.transform(im)\n",
        "        \n",
        "        try:\n",
        "            label = int(fname.split(\"/\")[-1].split(\"_\")[0])\n",
        "        except:\n",
        "            label = -1 # test has no label\n",
        "            \n",
        "        return im,label"
      ]
    },
    {
      "cell_type": "markdown",
      "metadata": {
        "id": "ZPFkDwug61PZ"
      },
      "source": [
        "# Model"
      ]
    },
    {
      "cell_type": "code",
      "execution_count": 61,
      "metadata": {
        "colab": {
          "background_save": true
        },
        "id": "b_kDECOJVaVL"
      },
      "outputs": [],
      "source": [
        "class Classifier(nn.Module):\n",
        "    def __init__(self):\n",
        "        super(Classifier, self).__init__()\n",
        "        # torch.nn.Conv2d(in_channels, out_channels, kernel_size, stride, padding)\n",
        "        # torch.nn.MaxPool2d(kernel_size, stride, padding)\n",
        "        # input 維度 [3, 128, 128]\n",
        "        self.cnn = nn.Sequential(\n",
        "            nn.Conv2d(3, 64, 3, 1, 1),  # [64, 128, 128]\n",
        "            nn.BatchNorm2d(64),\n",
        "            nn.ReLU(),\n",
        "            nn.MaxPool2d(2, 2, 0),      # [64, 64, 64]\n",
        "\n",
        "            nn.Conv2d(64, 128, 3, 1, 1), # [128, 64, 64]\n",
        "            nn.BatchNorm2d(128),\n",
        "            nn.ReLU(),\n",
        "            nn.MaxPool2d(2, 2, 0),      # [128, 32, 32]\n",
        "\n",
        "            nn.Conv2d(128, 256, 3, 1, 1), # [256, 32, 32]\n",
        "            nn.BatchNorm2d(256),\n",
        "            nn.ReLU(),\n",
        "            nn.MaxPool2d(2, 2, 0),      # [256, 16, 16]\n",
        "\n",
        "            nn.Conv2d(256, 512, 3, 1, 1), # [512, 16, 16]\n",
        "            nn.BatchNorm2d(512),\n",
        "            nn.ReLU(),\n",
        "            nn.MaxPool2d(2, 2, 0),       # [512, 8, 8]\n",
        "            \n",
        "            nn.Conv2d(512, 512, 3, 1, 1), # [512, 8, 8]\n",
        "            nn.BatchNorm2d(512),\n",
        "            nn.ReLU(),\n",
        "            nn.MaxPool2d(2, 2, 0),       # [512, 4, 4]\n",
        "        )\n",
        "        self.fc = nn.Sequential(\n",
        "            nn.Linear(512*4*4, 1024),\n",
        "            nn.ReLU(),\n",
        "            nn.Linear(1024, 512),\n",
        "            nn.ReLU(),\n",
        "            nn.Linear(512, 11)\n",
        "        )\n",
        "\n",
        "    def forward(self, x):\n",
        "        out = self.cnn(x)\n",
        "        out = out.view(out.size()[0], -1)\n",
        "        return self.fc(out)"
      ]
    },
    {
      "cell_type": "markdown",
      "metadata": {
        "id": "xgnIOaID687b"
      },
      "source": [
        "# Configurations"
      ]
    },
    {
      "cell_type": "code",
      "execution_count": 65,
      "metadata": {
        "colab": {
          "background_save": true
        },
        "id": "2_OeWtstVaVO"
      },
      "outputs": [
        {
          "name": "stderr",
          "output_type": "stream",
          "text": [
            "c:\\Users\\user\\anaconda3\\envs\\ML\\lib\\site-packages\\torchvision\\models\\_utils.py:223: UserWarning: Arguments other than a weight enum or `None` for 'weights' are deprecated since 0.13 and may be removed in the future. The current behavior is equivalent to passing `weights=None`.\n",
            "  warnings.warn(msg)\n"
          ]
        },
        {
          "name": "stdout",
          "output_type": "stream",
          "text": [
            "Epoch 00000: adjusting learning rate of group 0 to 3.0000e-05.\n"
          ]
        }
      ],
      "source": [
        "import torchvision.models as models\n",
        "# \"cuda\" only when GPUs are available.\n",
        "device = \"cuda\" if torch.cuda.is_available() else \"cpu\"\n",
        "\n",
        "EfficientNet = models.efficientnet_b2(weights=False, num_classes=11)\n",
        "EfficientNet.classifier = nn.Sequential(\n",
        "    nn.Dropout(p=0.25),\n",
        "    nn.Linear(in_features=1408, out_features=11, bias=True)\n",
        ")\n",
        "model = EfficientNet.to(device)\n",
        "# model.load_state_dict(torch.load(f'./{_exp_name}_best.ckpt')) # Uncomment this in second run\n",
        "\n",
        "# The number of batch size.\n",
        "batch_size = 16\n",
        "\n",
        "# The number of training epochs.\n",
        "n_epochs = 200  # This is for first run\n",
        "# n_epochs = 40  # This is for second run\n",
        "\n",
        "# If no improvement in 'patience' epochs, early stop.\n",
        "patience = 50\n",
        "\n",
        "# For the classification task, we use cross-entropy as the measurement of performance.\n",
        "criterion = nn.CrossEntropyLoss()\n",
        "\n",
        "# Initialize optimizer, you may fine-tune some hyperparameters such as learning rate on your own.\n",
        "optimizer = torch.optim.Adam(model.parameters(), lr=3e-4, weight_decay=1e-5)    # This is for first_run\n",
        "# optimizer = torch.optim.Adam(model.parameters(), lr=3e-5, weight_decay=1e-5)  # This is for second_run\n",
        "scheduler = torch.optim.lr_scheduler.CosineAnnealingWarmRestarts(optimizer, T_0=20, T_mult=1, verbose=True)"
      ]
    },
    {
      "cell_type": "markdown",
      "metadata": {
        "id": "zPGwvvPK7F7u"
      },
      "source": [
        "# Dataloader"
      ]
    },
    {
      "cell_type": "code",
      "execution_count": 66,
      "metadata": {
        "colab": {
          "background_save": true
        },
        "id": "zvZXRH2phItl"
      },
      "outputs": [],
      "source": [
        "# Construct train and valid datasets.\n",
        "# The argument \"loader\" tells how torchvision reads the data.\n",
        "train_set = FoodDataset(\"./train\", tfm=train_tfm)\n",
        "train_loader = DataLoader(train_set, batch_size=batch_size, shuffle=True, num_workers=0, pin_memory=True)\n",
        "valid_set = FoodDataset(\"./valid\", tfm=test_tfm)\n",
        "valid_loader = DataLoader(valid_set, batch_size=batch_size, shuffle=True, num_workers=0, pin_memory=True)"
      ]
    },
    {
      "cell_type": "markdown",
      "metadata": {
        "id": "UPQ0j1c17BG1"
      },
      "source": [
        "# Start Training"
      ]
    },
    {
      "cell_type": "code",
      "execution_count": 67,
      "metadata": {
        "id": "zbVkfIFhVaVO"
      },
      "outputs": [
        {
          "name": "stderr",
          "output_type": "stream",
          "text": [
            "100%|██████████| 625/625 [03:43<00:00,  2.80it/s]\n"
          ]
        },
        {
          "name": "stdout",
          "output_type": "stream",
          "text": [
            "[ Train | 001/040 ] loss = 0.37141, acc = 0.87080\n"
          ]
        },
        {
          "name": "stderr",
          "output_type": "stream",
          "text": [
            "100%|██████████| 228/228 [00:27<00:00,  8.41it/s]\n"
          ]
        },
        {
          "name": "stdout",
          "output_type": "stream",
          "text": [
            "[ Valid | 001/040 ] loss = 0.55734, acc = 0.83662\n",
            "[ Valid | 001/040 ] loss = 0.55734, acc = 0.83662 -> best\n",
            "Best model found at epoch 0, saving model\n",
            "Epoch 00000: adjusting learning rate of group 0 to 3.0000e-05.\n"
          ]
        },
        {
          "name": "stderr",
          "output_type": "stream",
          "text": [
            "100%|██████████| 625/625 [03:41<00:00,  2.82it/s]\n"
          ]
        },
        {
          "name": "stdout",
          "output_type": "stream",
          "text": [
            "[ Train | 002/040 ] loss = 0.36228, acc = 0.87640\n"
          ]
        },
        {
          "name": "stderr",
          "output_type": "stream",
          "text": [
            "100%|██████████| 228/228 [00:26<00:00,  8.46it/s]\n"
          ]
        },
        {
          "name": "stdout",
          "output_type": "stream",
          "text": [
            "[ Valid | 002/040 ] loss = 0.57632, acc = 0.83129\n",
            "[ Valid | 002/040 ] loss = 0.57632, acc = 0.83129\n",
            "Epoch 00001: adjusting learning rate of group 0 to 2.9815e-05.\n"
          ]
        },
        {
          "name": "stderr",
          "output_type": "stream",
          "text": [
            "100%|██████████| 625/625 [03:39<00:00,  2.85it/s]\n"
          ]
        },
        {
          "name": "stdout",
          "output_type": "stream",
          "text": [
            "[ Train | 003/040 ] loss = 0.36922, acc = 0.87350\n"
          ]
        },
        {
          "name": "stderr",
          "output_type": "stream",
          "text": [
            "100%|██████████| 228/228 [00:26<00:00,  8.49it/s]\n"
          ]
        },
        {
          "name": "stdout",
          "output_type": "stream",
          "text": [
            "[ Valid | 003/040 ] loss = 0.59142, acc = 0.82461\n",
            "[ Valid | 003/040 ] loss = 0.59142, acc = 0.82461\n",
            "Epoch 00002: adjusting learning rate of group 0 to 2.9266e-05.\n"
          ]
        },
        {
          "name": "stderr",
          "output_type": "stream",
          "text": [
            "100%|██████████| 625/625 [04:12<00:00,  2.47it/s]\n"
          ]
        },
        {
          "name": "stdout",
          "output_type": "stream",
          "text": [
            "[ Train | 004/040 ] loss = 0.36230, acc = 0.87770\n"
          ]
        },
        {
          "name": "stderr",
          "output_type": "stream",
          "text": [
            "100%|██████████| 228/228 [00:48<00:00,  4.74it/s]\n"
          ]
        },
        {
          "name": "stdout",
          "output_type": "stream",
          "text": [
            "[ Valid | 004/040 ] loss = 0.58074, acc = 0.83433\n",
            "[ Valid | 004/040 ] loss = 0.58074, acc = 0.83433\n",
            "Epoch 00003: adjusting learning rate of group 0 to 2.8365e-05.\n"
          ]
        },
        {
          "name": "stderr",
          "output_type": "stream",
          "text": [
            "100%|██████████| 625/625 [03:55<00:00,  2.65it/s]\n"
          ]
        },
        {
          "name": "stdout",
          "output_type": "stream",
          "text": [
            "[ Train | 005/040 ] loss = 0.36560, acc = 0.87230\n"
          ]
        },
        {
          "name": "stderr",
          "output_type": "stream",
          "text": [
            "100%|██████████| 228/228 [00:26<00:00,  8.53it/s]\n"
          ]
        },
        {
          "name": "stdout",
          "output_type": "stream",
          "text": [
            "[ Valid | 005/040 ] loss = 0.58895, acc = 0.83199\n",
            "[ Valid | 005/040 ] loss = 0.58895, acc = 0.83199\n",
            "Epoch 00004: adjusting learning rate of group 0 to 2.7135e-05.\n"
          ]
        },
        {
          "name": "stderr",
          "output_type": "stream",
          "text": [
            "100%|██████████| 625/625 [03:38<00:00,  2.86it/s]\n"
          ]
        },
        {
          "name": "stdout",
          "output_type": "stream",
          "text": [
            "[ Train | 006/040 ] loss = 0.36184, acc = 0.87390\n"
          ]
        },
        {
          "name": "stderr",
          "output_type": "stream",
          "text": [
            "100%|██████████| 228/228 [00:26<00:00,  8.55it/s]\n"
          ]
        },
        {
          "name": "stdout",
          "output_type": "stream",
          "text": [
            "[ Valid | 006/040 ] loss = 0.58063, acc = 0.82897\n",
            "[ Valid | 006/040 ] loss = 0.58063, acc = 0.82897\n",
            "Epoch 00005: adjusting learning rate of group 0 to 2.5607e-05.\n"
          ]
        },
        {
          "name": "stderr",
          "output_type": "stream",
          "text": [
            "100%|██████████| 625/625 [03:38<00:00,  2.86it/s]\n"
          ]
        },
        {
          "name": "stdout",
          "output_type": "stream",
          "text": [
            "[ Train | 007/040 ] loss = 0.35579, acc = 0.87620\n"
          ]
        },
        {
          "name": "stderr",
          "output_type": "stream",
          "text": [
            "100%|██████████| 228/228 [00:26<00:00,  8.46it/s]\n"
          ]
        },
        {
          "name": "stdout",
          "output_type": "stream",
          "text": [
            "[ Valid | 007/040 ] loss = 0.58439, acc = 0.83239\n",
            "[ Valid | 007/040 ] loss = 0.58439, acc = 0.83239\n",
            "Epoch 00006: adjusting learning rate of group 0 to 2.3817e-05.\n"
          ]
        },
        {
          "name": "stderr",
          "output_type": "stream",
          "text": [
            "100%|██████████| 625/625 [03:37<00:00,  2.87it/s]\n"
          ]
        },
        {
          "name": "stdout",
          "output_type": "stream",
          "text": [
            "[ Train | 008/040 ] loss = 0.34706, acc = 0.88280\n"
          ]
        },
        {
          "name": "stderr",
          "output_type": "stream",
          "text": [
            "100%|██████████| 228/228 [00:26<00:00,  8.58it/s]\n"
          ]
        },
        {
          "name": "stdout",
          "output_type": "stream",
          "text": [
            "[ Valid | 008/040 ] loss = 0.58345, acc = 0.83144\n",
            "[ Valid | 008/040 ] loss = 0.58345, acc = 0.83144\n",
            "Epoch 00007: adjusting learning rate of group 0 to 2.1810e-05.\n"
          ]
        },
        {
          "name": "stderr",
          "output_type": "stream",
          "text": [
            "100%|██████████| 625/625 [03:38<00:00,  2.86it/s]\n"
          ]
        },
        {
          "name": "stdout",
          "output_type": "stream",
          "text": [
            "[ Train | 009/040 ] loss = 0.33166, acc = 0.88500\n"
          ]
        },
        {
          "name": "stderr",
          "output_type": "stream",
          "text": [
            "100%|██████████| 228/228 [00:26<00:00,  8.57it/s]\n"
          ]
        },
        {
          "name": "stdout",
          "output_type": "stream",
          "text": [
            "[ Valid | 009/040 ] loss = 0.58593, acc = 0.83214\n",
            "[ Valid | 009/040 ] loss = 0.58593, acc = 0.83214\n",
            "Epoch 00008: adjusting learning rate of group 0 to 1.9635e-05.\n"
          ]
        },
        {
          "name": "stderr",
          "output_type": "stream",
          "text": [
            "100%|██████████| 625/625 [03:38<00:00,  2.86it/s]\n"
          ]
        },
        {
          "name": "stdout",
          "output_type": "stream",
          "text": [
            "[ Train | 010/040 ] loss = 0.34519, acc = 0.88060\n"
          ]
        },
        {
          "name": "stderr",
          "output_type": "stream",
          "text": [
            "100%|██████████| 228/228 [00:26<00:00,  8.56it/s]\n"
          ]
        },
        {
          "name": "stdout",
          "output_type": "stream",
          "text": [
            "[ Valid | 010/040 ] loss = 0.60228, acc = 0.83500\n",
            "[ Valid | 010/040 ] loss = 0.60228, acc = 0.83500\n",
            "Epoch 00009: adjusting learning rate of group 0 to 1.7347e-05.\n"
          ]
        },
        {
          "name": "stderr",
          "output_type": "stream",
          "text": [
            "100%|██████████| 625/625 [03:38<00:00,  2.86it/s]\n"
          ]
        },
        {
          "name": "stdout",
          "output_type": "stream",
          "text": [
            "[ Train | 011/040 ] loss = 0.33202, acc = 0.88860\n"
          ]
        },
        {
          "name": "stderr",
          "output_type": "stream",
          "text": [
            "100%|██████████| 228/228 [00:26<00:00,  8.53it/s]\n"
          ]
        },
        {
          "name": "stdout",
          "output_type": "stream",
          "text": [
            "[ Valid | 011/040 ] loss = 0.58277, acc = 0.83229\n",
            "[ Valid | 011/040 ] loss = 0.58277, acc = 0.83229\n",
            "Epoch 00010: adjusting learning rate of group 0 to 1.5000e-05.\n"
          ]
        },
        {
          "name": "stderr",
          "output_type": "stream",
          "text": [
            "100%|██████████| 625/625 [03:37<00:00,  2.87it/s]\n"
          ]
        },
        {
          "name": "stdout",
          "output_type": "stream",
          "text": [
            "[ Train | 012/040 ] loss = 0.35480, acc = 0.87790\n"
          ]
        },
        {
          "name": "stderr",
          "output_type": "stream",
          "text": [
            "100%|██████████| 228/228 [00:26<00:00,  8.53it/s]\n"
          ]
        },
        {
          "name": "stdout",
          "output_type": "stream",
          "text": [
            "[ Valid | 012/040 ] loss = 0.58410, acc = 0.83720\n",
            "[ Valid | 012/040 ] loss = 0.58410, acc = 0.83720 -> best\n",
            "Best model found at epoch 11, saving model\n",
            "Epoch 00011: adjusting learning rate of group 0 to 1.2653e-05.\n"
          ]
        },
        {
          "name": "stderr",
          "output_type": "stream",
          "text": [
            "100%|██████████| 625/625 [03:37<00:00,  2.87it/s]\n"
          ]
        },
        {
          "name": "stdout",
          "output_type": "stream",
          "text": [
            "[ Train | 013/040 ] loss = 0.34085, acc = 0.88370\n"
          ]
        },
        {
          "name": "stderr",
          "output_type": "stream",
          "text": [
            "100%|██████████| 228/228 [00:26<00:00,  8.55it/s]\n"
          ]
        },
        {
          "name": "stdout",
          "output_type": "stream",
          "text": [
            "[ Valid | 013/040 ] loss = 0.59618, acc = 0.83104\n",
            "[ Valid | 013/040 ] loss = 0.59618, acc = 0.83104\n",
            "Epoch 00012: adjusting learning rate of group 0 to 1.0365e-05.\n"
          ]
        },
        {
          "name": "stderr",
          "output_type": "stream",
          "text": [
            "100%|██████████| 625/625 [03:38<00:00,  2.87it/s]\n"
          ]
        },
        {
          "name": "stdout",
          "output_type": "stream",
          "text": [
            "[ Train | 014/040 ] loss = 0.33264, acc = 0.88500\n"
          ]
        },
        {
          "name": "stderr",
          "output_type": "stream",
          "text": [
            "100%|██████████| 228/228 [00:26<00:00,  8.52it/s]\n"
          ]
        },
        {
          "name": "stdout",
          "output_type": "stream",
          "text": [
            "[ Valid | 014/040 ] loss = 0.57166, acc = 0.83625\n",
            "[ Valid | 014/040 ] loss = 0.57166, acc = 0.83625\n",
            "Epoch 00013: adjusting learning rate of group 0 to 8.1901e-06.\n"
          ]
        },
        {
          "name": "stderr",
          "output_type": "stream",
          "text": [
            "100%|██████████| 625/625 [03:37<00:00,  2.87it/s]\n"
          ]
        },
        {
          "name": "stdout",
          "output_type": "stream",
          "text": [
            "[ Train | 015/040 ] loss = 0.34954, acc = 0.87920\n"
          ]
        },
        {
          "name": "stderr",
          "output_type": "stream",
          "text": [
            "100%|██████████| 228/228 [00:26<00:00,  8.55it/s]\n"
          ]
        },
        {
          "name": "stdout",
          "output_type": "stream",
          "text": [
            "[ Valid | 015/040 ] loss = 0.59226, acc = 0.83936\n",
            "[ Valid | 015/040 ] loss = 0.59226, acc = 0.83936 -> best\n",
            "Best model found at epoch 14, saving model\n",
            "Epoch 00014: adjusting learning rate of group 0 to 6.1832e-06.\n"
          ]
        },
        {
          "name": "stderr",
          "output_type": "stream",
          "text": [
            "100%|██████████| 625/625 [03:37<00:00,  2.87it/s]\n"
          ]
        },
        {
          "name": "stdout",
          "output_type": "stream",
          "text": [
            "[ Train | 016/040 ] loss = 0.32003, acc = 0.88940\n"
          ]
        },
        {
          "name": "stderr",
          "output_type": "stream",
          "text": [
            "100%|██████████| 228/228 [00:26<00:00,  8.55it/s]\n"
          ]
        },
        {
          "name": "stdout",
          "output_type": "stream",
          "text": [
            "[ Valid | 016/040 ] loss = 0.58957, acc = 0.83306\n",
            "[ Valid | 016/040 ] loss = 0.58957, acc = 0.83306\n",
            "Epoch 00015: adjusting learning rate of group 0 to 4.3934e-06.\n"
          ]
        },
        {
          "name": "stderr",
          "output_type": "stream",
          "text": [
            "100%|██████████| 625/625 [03:37<00:00,  2.87it/s]\n"
          ]
        },
        {
          "name": "stdout",
          "output_type": "stream",
          "text": [
            "[ Train | 017/040 ] loss = 0.31124, acc = 0.89370\n"
          ]
        },
        {
          "name": "stderr",
          "output_type": "stream",
          "text": [
            "100%|██████████| 228/228 [00:26<00:00,  8.52it/s]\n"
          ]
        },
        {
          "name": "stdout",
          "output_type": "stream",
          "text": [
            "[ Valid | 017/040 ] loss = 0.58967, acc = 0.83196\n",
            "[ Valid | 017/040 ] loss = 0.58967, acc = 0.83196\n",
            "Epoch 00016: adjusting learning rate of group 0 to 2.8647e-06.\n"
          ]
        },
        {
          "name": "stderr",
          "output_type": "stream",
          "text": [
            "100%|██████████| 625/625 [03:39<00:00,  2.84it/s]\n"
          ]
        },
        {
          "name": "stdout",
          "output_type": "stream",
          "text": [
            "[ Train | 018/040 ] loss = 0.32005, acc = 0.88950\n"
          ]
        },
        {
          "name": "stderr",
          "output_type": "stream",
          "text": [
            "100%|██████████| 228/228 [00:27<00:00,  8.25it/s]\n"
          ]
        },
        {
          "name": "stdout",
          "output_type": "stream",
          "text": [
            "[ Valid | 018/040 ] loss = 0.57758, acc = 0.83555\n",
            "[ Valid | 018/040 ] loss = 0.57758, acc = 0.83555\n",
            "Epoch 00017: adjusting learning rate of group 0 to 1.6349e-06.\n"
          ]
        },
        {
          "name": "stderr",
          "output_type": "stream",
          "text": [
            "100%|██████████| 625/625 [03:46<00:00,  2.76it/s]\n"
          ]
        },
        {
          "name": "stdout",
          "output_type": "stream",
          "text": [
            "[ Train | 019/040 ] loss = 0.32466, acc = 0.88560\n"
          ]
        },
        {
          "name": "stderr",
          "output_type": "stream",
          "text": [
            "100%|██████████| 228/228 [00:27<00:00,  8.30it/s]\n"
          ]
        },
        {
          "name": "stdout",
          "output_type": "stream",
          "text": [
            "[ Valid | 019/040 ] loss = 0.58631, acc = 0.83530\n",
            "[ Valid | 019/040 ] loss = 0.58631, acc = 0.83530\n",
            "Epoch 00018: adjusting learning rate of group 0 to 7.3415e-07.\n"
          ]
        },
        {
          "name": "stderr",
          "output_type": "stream",
          "text": [
            "100%|██████████| 625/625 [03:42<00:00,  2.81it/s]\n"
          ]
        },
        {
          "name": "stdout",
          "output_type": "stream",
          "text": [
            "[ Train | 020/040 ] loss = 0.33185, acc = 0.89060\n"
          ]
        },
        {
          "name": "stderr",
          "output_type": "stream",
          "text": [
            "100%|██████████| 228/228 [00:27<00:00,  8.23it/s]\n"
          ]
        },
        {
          "name": "stdout",
          "output_type": "stream",
          "text": [
            "[ Valid | 020/040 ] loss = 0.59256, acc = 0.83832\n",
            "[ Valid | 020/040 ] loss = 0.59256, acc = 0.83832\n",
            "Epoch 00019: adjusting learning rate of group 0 to 1.8467e-07.\n"
          ]
        },
        {
          "name": "stderr",
          "output_type": "stream",
          "text": [
            "100%|██████████| 625/625 [03:45<00:00,  2.78it/s]\n"
          ]
        },
        {
          "name": "stdout",
          "output_type": "stream",
          "text": [
            "[ Train | 021/040 ] loss = 0.33322, acc = 0.88820\n"
          ]
        },
        {
          "name": "stderr",
          "output_type": "stream",
          "text": [
            "100%|██████████| 228/228 [00:27<00:00,  8.43it/s]\n"
          ]
        },
        {
          "name": "stdout",
          "output_type": "stream",
          "text": [
            "[ Valid | 021/040 ] loss = 0.59981, acc = 0.82705\n",
            "[ Valid | 021/040 ] loss = 0.59981, acc = 0.82705\n",
            "Epoch 00020: adjusting learning rate of group 0 to 3.0000e-05.\n"
          ]
        },
        {
          "name": "stderr",
          "output_type": "stream",
          "text": [
            "100%|██████████| 625/625 [03:38<00:00,  2.86it/s]\n"
          ]
        },
        {
          "name": "stdout",
          "output_type": "stream",
          "text": [
            "[ Train | 022/040 ] loss = 0.33371, acc = 0.88590\n"
          ]
        },
        {
          "name": "stderr",
          "output_type": "stream",
          "text": [
            "100%|██████████| 228/228 [00:25<00:00,  9.08it/s]\n"
          ]
        },
        {
          "name": "stdout",
          "output_type": "stream",
          "text": [
            "[ Valid | 022/040 ] loss = 0.58760, acc = 0.83595\n",
            "[ Valid | 022/040 ] loss = 0.58760, acc = 0.83595\n",
            "Epoch 00021: adjusting learning rate of group 0 to 2.9815e-05.\n"
          ]
        },
        {
          "name": "stderr",
          "output_type": "stream",
          "text": [
            "100%|██████████| 625/625 [03:24<00:00,  3.06it/s]\n"
          ]
        },
        {
          "name": "stdout",
          "output_type": "stream",
          "text": [
            "[ Train | 023/040 ] loss = 0.33497, acc = 0.88790\n"
          ]
        },
        {
          "name": "stderr",
          "output_type": "stream",
          "text": [
            "100%|██████████| 228/228 [00:24<00:00,  9.27it/s]\n"
          ]
        },
        {
          "name": "stdout",
          "output_type": "stream",
          "text": [
            "[ Valid | 023/040 ] loss = 0.59266, acc = 0.83226\n",
            "[ Valid | 023/040 ] loss = 0.59266, acc = 0.83226\n",
            "Epoch 00022: adjusting learning rate of group 0 to 2.9266e-05.\n"
          ]
        },
        {
          "name": "stderr",
          "output_type": "stream",
          "text": [
            " 99%|█████████▊| 616/625 [03:20<00:02,  3.10it/s]"
          ]
        }
      ],
      "source": [
        "# Initialize trackers, these are not parameters and should not be changed\n",
        "stale = 0\n",
        "best_acc = 0\n",
        "\n",
        "for epoch in range(n_epochs):\n",
        "    # ---------- Training ----------\n",
        "    # Make sure the model is in train mode before training.\n",
        "    model.train()\n",
        "\n",
        "    # These are used to record information in training.\n",
        "    train_loss = []\n",
        "    train_accs = []\n",
        "\n",
        "    for batch in tqdm(train_loader):\n",
        "\n",
        "        # A batch consists of image data and corresponding labels.\n",
        "        imgs, labels = batch\n",
        "        #imgs = imgs.half()\n",
        "\n",
        "        # Forward the data. (Make sure data and model are on the same device.)\n",
        "        logits = model(imgs.to(device))\n",
        "\n",
        "        # Calculate the cross-entropy loss.\n",
        "        # We don't need to apply softmax before computing cross-entropy as it is done automatically.\n",
        "        loss = criterion(logits, labels.to(device))\n",
        "\n",
        "        # Gradients stored in the parameters in the previous step should be cleared out first.\n",
        "        optimizer.zero_grad()\n",
        "\n",
        "        # Compute the gradients for parameters.\n",
        "        loss.backward()\n",
        "\n",
        "        # Clip the gradient norms for stable training.\n",
        "        grad_norm = nn.utils.clip_grad_norm_(model.parameters(), max_norm=10)\n",
        "\n",
        "        # Update the parameters with computed gradients.\n",
        "        optimizer.step()\n",
        "\n",
        "        # Compute the accuracy for current batch.\n",
        "        acc = (logits.argmax(dim=-1) == labels.to(device)).float().mean()\n",
        "\n",
        "        # Record the loss and accuracy.\n",
        "        train_loss.append(loss.item())\n",
        "        train_accs.append(acc)\n",
        "        \n",
        "    train_loss = sum(train_loss) / len(train_loss)\n",
        "    train_acc = sum(train_accs) / len(train_accs)\n",
        "\n",
        "    # Print the information.\n",
        "    print(f\"[ Train | {epoch + 1:03d}/{n_epochs:03d} ] loss = {train_loss:.5f}, acc = {train_acc:.5f}\")\n",
        "\n",
        "    # ---------- Validation ----------\n",
        "    # Make sure the model is in eval mode so that some modules like dropout are disabled and work normally.\n",
        "    model.eval()\n",
        "\n",
        "    # These are used to record information in validation.\n",
        "    valid_loss = []\n",
        "    valid_accs = []\n",
        "\n",
        "    # Iterate the validation set by batches.\n",
        "    for batch in tqdm(valid_loader):\n",
        "\n",
        "        # A batch consists of image data and corresponding labels.\n",
        "        imgs, labels = batch\n",
        "        #imgs = imgs.half()\n",
        "\n",
        "        # We don't need gradient in validation.\n",
        "        # Using torch.no_grad() accelerates the forward process.\n",
        "        with torch.no_grad():\n",
        "            logits = model(imgs.to(device))\n",
        "\n",
        "        # We can still compute the loss (but not the gradient).\n",
        "        loss = criterion(logits, labels.to(device))\n",
        "\n",
        "        # Compute the accuracy for current batch.\n",
        "        acc = (logits.argmax(dim=-1) == labels.to(device)).float().mean()\n",
        "\n",
        "        # Record the loss and accuracy.\n",
        "        valid_loss.append(loss.item())\n",
        "        valid_accs.append(acc)\n",
        "        #break\n",
        "\n",
        "    # The average loss and accuracy for entire validation set is the average of the recorded values.\n",
        "    valid_loss = sum(valid_loss) / len(valid_loss)\n",
        "    valid_acc = sum(valid_accs) / len(valid_accs)\n",
        "\n",
        "    # Print the information.\n",
        "    print(f\"[ Valid | {epoch + 1:03d}/{n_epochs:03d} ] loss = {valid_loss:.5f}, acc = {valid_acc:.5f}\")\n",
        "\n",
        "\n",
        "    # update logs\n",
        "    if valid_acc > best_acc:\n",
        "        with open(f\"./{_exp_name}_log.txt\",\"a\"):\n",
        "            print(f\"[ Valid | {epoch + 1:03d}/{n_epochs:03d} ] loss = {valid_loss:.5f}, acc = {valid_acc:.5f} -> best\")\n",
        "    else:\n",
        "        with open(f\"./{_exp_name}_log.txt\",\"a\"):\n",
        "            print(f\"[ Valid | {epoch + 1:03d}/{n_epochs:03d} ] loss = {valid_loss:.5f}, acc = {valid_acc:.5f}\")\n",
        "\n",
        "\n",
        "    # save models\n",
        "    if valid_acc > best_acc:\n",
        "        print(f\"Best model found at epoch {epoch}, saving model\")\n",
        "        torch.save(model.state_dict(), f\"{_exp_name}_best.ckpt\") # only save best to prevent output memory exceed error\n",
        "        best_acc = valid_acc\n",
        "        stale = 0\n",
        "    else:\n",
        "        stale += 1\n",
        "        if stale > patience:\n",
        "            print(f\"No improvment {patience} consecutive epochs, early stopping\")\n",
        "            break\n",
        "\n",
        "    scheduler.step(epoch)"
      ]
    },
    {
      "cell_type": "markdown",
      "metadata": {
        "id": "rw2y9Uhw7wr2"
      },
      "source": [
        "# Dataloader for test"
      ]
    },
    {
      "cell_type": "code",
      "execution_count": null,
      "metadata": {
        "id": "B9QNdHIXVaVP"
      },
      "outputs": [],
      "source": [
        "# Construct test datasets.\n",
        "# The argument \"loader\" tells how torchvision reads the data.\n",
        "test_set = FoodDataset(\"./test\", tfm=test_tfm)\n",
        "test_loader = DataLoader(test_set, batch_size=batch_size, shuffle=False, num_workers=0, pin_memory=True)\n",
        "test_set_transformed = FoodDataset(\"./test\", tfm=train_tfm)\n",
        "test_loader_transformed = DataLoader(test_set_transformed, batch_size=batch_size, shuffle=False, num_workers=0, pin_memory=True)"
      ]
    },
    {
      "cell_type": "markdown",
      "metadata": {
        "id": "G31uyjpvVaVP"
      },
      "source": [
        "# Testing and generate prediction CSV"
      ]
    },
    {
      "cell_type": "code",
      "execution_count": null,
      "metadata": {
        "id": "bpLtxx5FVaVP"
      },
      "outputs": [
        {
          "name": "stderr",
          "output_type": "stream",
          "text": [
            "100%|██████████| 188/188 [00:43<00:00,  4.34it/s]\n",
            "100%|██████████| 188/188 [00:46<00:00,  4.08it/s]\n"
          ]
        }
      ],
      "source": [
        "model_best = EfficientNet.to(device)\n",
        "model_best.load_state_dict(torch.load(f\"{_exp_name}_best.ckpt\"))\n",
        "model_best.eval()\n",
        "prediction = []\n",
        "prediction_transformed = []\n",
        "with torch.no_grad():\n",
        "    for data,_ in tqdm(test_loader):\n",
        "        test_pred = model_best(data.to(device))\n",
        "        prediction += test_pred.squeeze().tolist()\n",
        "\n",
        "    for data,_ in tqdm(test_loader_transformed):\n",
        "        test_transformed_pred = model_best(data.to(device))\n",
        "        prediction_transformed += test_transformed_pred.squeeze().tolist()"
      ]
    },
    {
      "cell_type": "code",
      "execution_count": null,
      "metadata": {},
      "outputs": [],
      "source": [
        "prediction_ensemble = []\n",
        "prediction = np.array(prediction)\n",
        "prediction_transformed = np.array(prediction_transformed)\n",
        "for i in range(len(prediction)):\n",
        "        w = 0.9\n",
        "        test_ensemble_pred = w * prediction[i,:] + (1-w) * prediction_transformed[i,:]\n",
        "        test_ensemble_label = np.argmax(test_ensemble_pred, axis=0)\n",
        "        prediction_ensemble.append(test_ensemble_label)"
      ]
    },
    {
      "cell_type": "code",
      "execution_count": null,
      "metadata": {
        "id": "fKupB3VUVaVQ"
      },
      "outputs": [],
      "source": [
        "# create test csv\n",
        "def pad4(i):\n",
        "    return \"0\"*(4-len(str(i)))+str(i)\n",
        "df = pd.DataFrame()\n",
        "df[\"Id\"] = [pad4(i) for i in range(len(test_set))]\n",
        "df[\"Category\"] = prediction_ensemble\n",
        "df.to_csv(\"submission.csv\",index = False)"
      ]
    },
    {
      "cell_type": "markdown",
      "metadata": {
        "id": "Ivk0hrE-V8Cu"
      },
      "source": [
        "# Q1. Augmentation Implementation\n",
        "## Implement augmentation by finishing train_tfm in the code with image size of your choice. \n",
        "## Directly copy the following block and paste it on GradeScope after you finish the code\n",
        "### Your train_tfm must be capable of producing 5+ different results when given an identical image multiple times.\n",
        "### Your  train_tfm in the report can be different from train_tfm in your training code.\n"
      ]
    },
    {
      "cell_type": "code",
      "execution_count": null,
      "metadata": {
        "id": "GSfKNo42WjKm"
      },
      "outputs": [],
      "source": [
        "train_tfm = transforms.Compose([\n",
        "    # Resize the image into a fixed shape (height = width = 128)\n",
        "    transforms.Resize((128, 128)),\n",
        "    # You can add some transforms here.\n",
        "    transforms.ToTensor(),\n",
        "])"
      ]
    },
    {
      "cell_type": "markdown",
      "metadata": {
        "id": "3HemRgZ6WwRM"
      },
      "source": [
        "# Q2. Visual Representations Implementation\n",
        "## Visualize the learned visual representations of the CNN model on the validation set by implementing t-SNE (t-distributed Stochastic Neighbor Embedding) on the output of both top & mid layers (You need to submit 2 images). \n"
      ]
    },
    {
      "cell_type": "code",
      "execution_count": null,
      "metadata": {
        "id": "iXd_SZnB2Wg8"
      },
      "outputs": [],
      "source": [
        "# import torch\n",
        "# import numpy as np\n",
        "# from sklearn.manifold import TSNE\n",
        "# import matplotlib.pyplot as plt\n",
        "# from tqdm import tqdm\n",
        "# import matplotlib.cm as cm\n",
        "# import torch.nn as nn\n",
        "\n",
        "# device = 'cuda' if torch.cuda.is_available() else 'cpu'\n",
        "\n",
        "# # Load the trained model\n",
        "# model = DenseNet169.to(device)\n",
        "# state_dict = torch.load(f\"{_exp_name}_best.ckpt\")\n",
        "# model.load_state_dict(state_dict)\n",
        "# model.eval()\n",
        "\n",
        "# print(model)"
      ]
    },
    {
      "cell_type": "code",
      "execution_count": null,
      "metadata": {
        "id": "QcBKUNfc3BeL"
      },
      "outputs": [],
      "source": [
        "# # Load the vaildation set defined by TA\n",
        "# valid_set = FoodDataset(\"./valid\", tfm=test_tfm)\n",
        "# valid_loader = DataLoader(valid_set, batch_size=64, shuffle=False, num_workers=0, pin_memory=True)\n",
        "\n",
        "# # Extract the representations for the specific layer of model\n",
        "# index = ... # You should find out the index of layer which is defined as \"top\" or 'mid' layer of your model.\n",
        "# features = []\n",
        "# labels = []\n",
        "# for batch in tqdm(valid_loader):\n",
        "#     imgs, lbls = batch\n",
        "#     with torch.no_grad():\n",
        "#         logits = model.cnn[:index](imgs.to(device))\n",
        "#         logits = logits.view(logits.size()[0], -1)\n",
        "#     labels.extend(lbls.cpu().numpy())\n",
        "#     logits = np.squeeze(logits.cpu().numpy())\n",
        "#     features.extend(logits)\n",
        "    \n",
        "# features = np.array(features)\n",
        "# colors_per_class = cm.rainbow(np.linspace(0, 1, 11))\n",
        "\n",
        "# # Apply t-SNE to the features\n",
        "# features_tsne = TSNE(n_components=2, init='pca', random_state=42).fit_transform(features)\n",
        "\n",
        "# # Plot the t-SNE visualization\n",
        "# plt.figure(figsize=(10, 8))\n",
        "# for label in np.unique(labels):\n",
        "#     plt.scatter(features_tsne[labels == label, 0], features_tsne[labels == label, 1], label=label, s=5)\n",
        "# plt.legend()\n",
        "# plt.show()"
      ]
    },
    {
      "attachments": {},
      "cell_type": "markdown",
      "metadata": {},
      "source": [
        "Kaggle public score 0.85466"
      ]
    }
  ],
  "metadata": {
    "accelerator": "GPU",
    "colab": {
      "provenance": []
    },
    "gpuClass": "standard",
    "kernelspec": {
      "display_name": "Python 3.8.3 64-bit",
      "language": "python",
      "name": "python3"
    },
    "language_info": {
      "codemirror_mode": {
        "name": "ipython",
        "version": 3
      },
      "file_extension": ".py",
      "mimetype": "text/x-python",
      "name": "python",
      "nbconvert_exporter": "python",
      "pygments_lexer": "ipython3",
      "version": "3.10.10"
    },
    "vscode": {
      "interpreter": {
        "hash": "9650cb4e16cdd4a8e8e2d128bf38d875813998db22a3c986335f89e0cb4d7bb2"
      }
    }
  },
  "nbformat": 4,
  "nbformat_minor": 0
}
